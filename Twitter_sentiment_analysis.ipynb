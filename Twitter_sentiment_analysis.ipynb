{
 "cells": [
  {
   "cell_type": "code",
   "execution_count": 1,
   "metadata": {},
   "outputs": [],
   "source": [
    "import pandas as pd\n",
    "import numpy as np\n",
    "import time\n",
    "from memory_profiler import memory_usage\n",
    "from tensorflow.keras.models import Sequential\n",
    "from tensorflow.keras.layers import Embedding, LSTM, Dense\n",
    "from tensorflow.keras.preprocessing.text import Tokenizer\n",
    "from tensorflow.keras.preprocessing.sequence import pad_sequences\n",
    "from tensorflow.keras.callbacks import EarlyStopping, ModelCheckpoint\n",
    "from sklearn.metrics import classification_report, confusion_matrix, ConfusionMatrixDisplay\n",
    "from sklearn.model_selection import train_test_split\n",
    "import matplotlib.pyplot as plt\n",
    "import re\n",
    "import nltk\n",
    "from nltk.corpus import stopwords\n",
    "from nltk.stem import WordNetLemmatizer\n",
    "import os\n",
    "from gensim.models import KeyedVectors\n",
    "import psutil\n",
    "\n",
    "\n",
    "\n",
    "df = pd.read_csv(r\"DATA.csv\", encoding='ISO-8859-1')\n",
    "df = df.drop(\"1467810369\",axis=1)"
   ]
  },
  {
   "cell_type": "code",
   "execution_count": 2,
   "metadata": {},
   "outputs": [
    {
     "data": {
      "text/html": [
       "<div>\n",
       "<style scoped>\n",
       "    .dataframe tbody tr th:only-of-type {\n",
       "        vertical-align: middle;\n",
       "    }\n",
       "\n",
       "    .dataframe tbody tr th {\n",
       "        vertical-align: top;\n",
       "    }\n",
       "\n",
       "    .dataframe thead th {\n",
       "        text-align: right;\n",
       "    }\n",
       "</style>\n",
       "<table border=\"1\" class=\"dataframe\">\n",
       "  <thead>\n",
       "    <tr style=\"text-align: right;\">\n",
       "      <th></th>\n",
       "      <th>polarity</th>\n",
       "      <th>date</th>\n",
       "      <th>query</th>\n",
       "      <th>user</th>\n",
       "      <th>text</th>\n",
       "    </tr>\n",
       "  </thead>\n",
       "  <tbody>\n",
       "    <tr>\n",
       "      <th>0</th>\n",
       "      <td>0</td>\n",
       "      <td>Mon Apr 06 22:19:49 PDT 2009</td>\n",
       "      <td>NO_QUERY</td>\n",
       "      <td>scotthamilton</td>\n",
       "      <td>is upset that he can't update his Facebook by ...</td>\n",
       "    </tr>\n",
       "    <tr>\n",
       "      <th>1</th>\n",
       "      <td>0</td>\n",
       "      <td>Mon Apr 06 22:19:53 PDT 2009</td>\n",
       "      <td>NO_QUERY</td>\n",
       "      <td>mattycus</td>\n",
       "      <td>@Kenichan I dived many times for the ball. Man...</td>\n",
       "    </tr>\n",
       "    <tr>\n",
       "      <th>2</th>\n",
       "      <td>0</td>\n",
       "      <td>Mon Apr 06 22:19:57 PDT 2009</td>\n",
       "      <td>NO_QUERY</td>\n",
       "      <td>ElleCTF</td>\n",
       "      <td>my whole body feels itchy and like its on fire</td>\n",
       "    </tr>\n",
       "    <tr>\n",
       "      <th>3</th>\n",
       "      <td>0</td>\n",
       "      <td>Mon Apr 06 22:19:57 PDT 2009</td>\n",
       "      <td>NO_QUERY</td>\n",
       "      <td>Karoli</td>\n",
       "      <td>@nationwideclass no, it's not behaving at all....</td>\n",
       "    </tr>\n",
       "    <tr>\n",
       "      <th>4</th>\n",
       "      <td>0</td>\n",
       "      <td>Mon Apr 06 22:20:00 PDT 2009</td>\n",
       "      <td>NO_QUERY</td>\n",
       "      <td>joy_wolf</td>\n",
       "      <td>@Kwesidei not the whole crew</td>\n",
       "    </tr>\n",
       "  </tbody>\n",
       "</table>\n",
       "</div>"
      ],
      "text/plain": [
       "   polarity                          date     query           user  \\\n",
       "0         0  Mon Apr 06 22:19:49 PDT 2009  NO_QUERY  scotthamilton   \n",
       "1         0  Mon Apr 06 22:19:53 PDT 2009  NO_QUERY       mattycus   \n",
       "2         0  Mon Apr 06 22:19:57 PDT 2009  NO_QUERY        ElleCTF   \n",
       "3         0  Mon Apr 06 22:19:57 PDT 2009  NO_QUERY         Karoli   \n",
       "4         0  Mon Apr 06 22:20:00 PDT 2009  NO_QUERY       joy_wolf   \n",
       "\n",
       "                                                text  \n",
       "0  is upset that he can't update his Facebook by ...  \n",
       "1  @Kenichan I dived many times for the ball. Man...  \n",
       "2    my whole body feels itchy and like its on fire   \n",
       "3  @nationwideclass no, it's not behaving at all....  \n",
       "4                      @Kwesidei not the whole crew   "
      ]
     },
     "execution_count": 2,
     "metadata": {},
     "output_type": "execute_result"
    }
   ],
   "source": [
    "df.columns = ['polarity', 'date', 'query', 'user', 'text']\n",
    "\n",
    "df.head()"
   ]
  },
  {
   "cell_type": "code",
   "execution_count": 3,
   "metadata": {},
   "outputs": [],
   "source": [
    "df = df.drop([\"query\",\"date\",\"user\"],axis=1)"
   ]
  },
  {
   "cell_type": "code",
   "execution_count": 4,
   "metadata": {},
   "outputs": [
    {
     "data": {
      "text/html": [
       "<div>\n",
       "<style scoped>\n",
       "    .dataframe tbody tr th:only-of-type {\n",
       "        vertical-align: middle;\n",
       "    }\n",
       "\n",
       "    .dataframe tbody tr th {\n",
       "        vertical-align: top;\n",
       "    }\n",
       "\n",
       "    .dataframe thead th {\n",
       "        text-align: right;\n",
       "    }\n",
       "</style>\n",
       "<table border=\"1\" class=\"dataframe\">\n",
       "  <thead>\n",
       "    <tr style=\"text-align: right;\">\n",
       "      <th></th>\n",
       "      <th>polarity</th>\n",
       "      <th>text</th>\n",
       "    </tr>\n",
       "  </thead>\n",
       "  <tbody>\n",
       "    <tr>\n",
       "      <th>0</th>\n",
       "      <td>0</td>\n",
       "      <td>is upset that he can't update his Facebook by ...</td>\n",
       "    </tr>\n",
       "    <tr>\n",
       "      <th>1</th>\n",
       "      <td>0</td>\n",
       "      <td>@Kenichan I dived many times for the ball. Man...</td>\n",
       "    </tr>\n",
       "    <tr>\n",
       "      <th>2</th>\n",
       "      <td>0</td>\n",
       "      <td>my whole body feels itchy and like its on fire</td>\n",
       "    </tr>\n",
       "    <tr>\n",
       "      <th>3</th>\n",
       "      <td>0</td>\n",
       "      <td>@nationwideclass no, it's not behaving at all....</td>\n",
       "    </tr>\n",
       "    <tr>\n",
       "      <th>4</th>\n",
       "      <td>0</td>\n",
       "      <td>@Kwesidei not the whole crew</td>\n",
       "    </tr>\n",
       "  </tbody>\n",
       "</table>\n",
       "</div>"
      ],
      "text/plain": [
       "   polarity                                               text\n",
       "0         0  is upset that he can't update his Facebook by ...\n",
       "1         0  @Kenichan I dived many times for the ball. Man...\n",
       "2         0    my whole body feels itchy and like its on fire \n",
       "3         0  @nationwideclass no, it's not behaving at all....\n",
       "4         0                      @Kwesidei not the whole crew "
      ]
     },
     "execution_count": 4,
     "metadata": {},
     "output_type": "execute_result"
    }
   ],
   "source": [
    "df.head()"
   ]
  },
  {
   "cell_type": "code",
   "execution_count": 5,
   "metadata": {},
   "outputs": [
    {
     "data": {
      "text/html": [
       "<div>\n",
       "<style scoped>\n",
       "    .dataframe tbody tr th:only-of-type {\n",
       "        vertical-align: middle;\n",
       "    }\n",
       "\n",
       "    .dataframe tbody tr th {\n",
       "        vertical-align: top;\n",
       "    }\n",
       "\n",
       "    .dataframe thead th {\n",
       "        text-align: right;\n",
       "    }\n",
       "</style>\n",
       "<table border=\"1\" class=\"dataframe\">\n",
       "  <thead>\n",
       "    <tr style=\"text-align: right;\">\n",
       "      <th></th>\n",
       "      <th>polarity</th>\n",
       "      <th>text</th>\n",
       "    </tr>\n",
       "  </thead>\n",
       "  <tbody>\n",
       "    <tr>\n",
       "      <th>1599994</th>\n",
       "      <td>4</td>\n",
       "      <td>Just woke up. Having no school is the best fee...</td>\n",
       "    </tr>\n",
       "    <tr>\n",
       "      <th>1599995</th>\n",
       "      <td>4</td>\n",
       "      <td>TheWDB.com - Very cool to hear old Walt interv...</td>\n",
       "    </tr>\n",
       "    <tr>\n",
       "      <th>1599996</th>\n",
       "      <td>4</td>\n",
       "      <td>Are you ready for your MoJo Makeover? Ask me f...</td>\n",
       "    </tr>\n",
       "    <tr>\n",
       "      <th>1599997</th>\n",
       "      <td>4</td>\n",
       "      <td>Happy 38th Birthday to my boo of alll time!!! ...</td>\n",
       "    </tr>\n",
       "    <tr>\n",
       "      <th>1599998</th>\n",
       "      <td>4</td>\n",
       "      <td>happy #charitytuesday @theNSPCC @SparksCharity...</td>\n",
       "    </tr>\n",
       "  </tbody>\n",
       "</table>\n",
       "</div>"
      ],
      "text/plain": [
       "         polarity                                               text\n",
       "1599994         4  Just woke up. Having no school is the best fee...\n",
       "1599995         4  TheWDB.com - Very cool to hear old Walt interv...\n",
       "1599996         4  Are you ready for your MoJo Makeover? Ask me f...\n",
       "1599997         4  Happy 38th Birthday to my boo of alll time!!! ...\n",
       "1599998         4  happy #charitytuesday @theNSPCC @SparksCharity..."
      ]
     },
     "execution_count": 5,
     "metadata": {},
     "output_type": "execute_result"
    }
   ],
   "source": [
    "df.tail()"
   ]
  },
  {
   "cell_type": "code",
   "execution_count": 6,
   "metadata": {},
   "outputs": [
    {
     "name": "stdout",
     "output_type": "stream",
     "text": [
      "Shape of the DataFrame: (1599999, 2)\n",
      "\n",
      "Polarity Value Counts:\n",
      "4    800000\n",
      "0    799999\n",
      "Name: polarity, dtype: int64\n",
      "\n",
      "Unique Values in 'polarity' column:\n",
      "[0 4]\n",
      "\n",
      "Missing (null) Values in the DataFrame:\n",
      "polarity    0\n",
      "text        0\n",
      "dtype: int64\n"
     ]
    }
   ],
   "source": [
    "print(\"Shape of the DataFrame:\", df.shape)\n",
    "print(\"\\nPolarity Value Counts:\")\n",
    "print(df[\"polarity\"].value_counts())\n",
    "print(\"\\nUnique Values in 'polarity' column:\")\n",
    "print(df[\"polarity\"].unique())\n",
    "print(\"\\nMissing (null) Values in the DataFrame:\")\n",
    "print(df.isnull().sum())\n"
   ]
  },
  {
   "cell_type": "code",
   "execution_count": 7,
   "metadata": {},
   "outputs": [],
   "source": [
    "df[\"polarity\"] = df[\"polarity\"].replace(4, 1)"
   ]
  },
  {
   "cell_type": "code",
   "execution_count": 8,
   "metadata": {},
   "outputs": [
    {
     "name": "stdout",
     "output_type": "stream",
     "text": [
      "Shape of the DataFrame: (1599999, 2)\n",
      "\n",
      "Polarity Value Counts:\n",
      "1    800000\n",
      "0    799999\n",
      "Name: polarity, dtype: int64\n",
      "\n",
      "Unique Values in 'polarity' column:\n",
      "[0 1]\n",
      "\n",
      "Missing (null) Values in the DataFrame:\n",
      "polarity    0\n",
      "text        0\n",
      "dtype: int64\n"
     ]
    }
   ],
   "source": [
    "print(\"Shape of the DataFrame:\", df.shape)\n",
    "print(\"\\nPolarity Value Counts:\")\n",
    "print(df[\"polarity\"].value_counts())\n",
    "print(\"\\nUnique Values in 'polarity' column:\")\n",
    "print(df[\"polarity\"].unique())\n",
    "print(\"\\nMissing (null) Values in the DataFrame:\")\n",
    "print(df.isnull().sum())\n"
   ]
  },
  {
   "cell_type": "code",
   "execution_count": 9,
   "metadata": {},
   "outputs": [],
   "source": [
    "X = df['text']\n",
    "y = df['polarity']\n",
    "\n",
    "X_train, X_temp, y_train, y_temp = train_test_split(X, y, test_size=0.2, random_state=42, stratify=y)\n",
    "\n",
    "X_val, X_test, y_val, y_test = train_test_split(X_temp, y_temp, test_size=0.5, random_state=42, stratify=y_temp)\n",
    "\n",
    "train_df = pd.DataFrame({'text': X_train, 'polarity': y_train})\n",
    "val_df = pd.DataFrame({'text': X_val, 'polarity': y_val})\n",
    "test_df = pd.DataFrame({'text': X_test, 'polarity': y_test})"
   ]
  },
  {
   "cell_type": "code",
   "execution_count": 10,
   "metadata": {},
   "outputs": [],
   "source": [
    "lemmatizer = WordNetLemmatizer()\n",
    "stop_words = set(stopwords.words('english'))\n",
    "\n",
    "url_pattern = re.compile(r'http\\S+|www\\S+')\n",
    "mention_pattern = re.compile(r'@\\w+')\n",
    "hashtag_pattern = re.compile(r'#\\w+')\n",
    "special_char_pattern = re.compile(r'[^a-zA-Z\\s]')\n",
    "extra_whitespace_pattern = re.compile(r'\\s+')\n",
    "\n",
    "def preprocess_tweet(tweet):\n",
    "    tweet = url_pattern.sub('', tweet)\n",
    "    tweet = mention_pattern.sub('', tweet)\n",
    "    tweet = hashtag_pattern.sub('', tweet)\n",
    "    tweet = special_char_pattern.sub('', tweet.lower())\n",
    "\n",
    "    tokens = [lemmatizer.lemmatize(word) for word in tweet.split() if word not in stop_words]\n",
    "\n",
    "    return extra_whitespace_pattern.sub(' ', ' '.join(tokens)).strip()\n"
   ]
  },
  {
   "cell_type": "markdown",
   "metadata": {},
   "source": [
    "Remove URLs\n",
    "\n",
    "Remove Mentions\n",
    "\n",
    "Remove Hashtags\n",
    "\n",
    "Remove Special Characters and Lowercasing     \n",
    "\n",
    "Remove Stopwords , Tokenization , Lemmatization\n",
    "\n",
    "Remove Extra Whitespaces"
   ]
  },
  {
   "cell_type": "code",
   "execution_count": 11,
   "metadata": {},
   "outputs": [],
   "source": [
    "train_df = train_df.sample(frac=1, random_state=42).reset_index(drop=True)\n",
    "val_df = val_df.sample(frac=1, random_state=42).reset_index(drop=True)\n",
    "test_df = test_df.sample(frac=1, random_state=42).reset_index(drop=True)"
   ]
  },
  {
   "cell_type": "code",
   "execution_count": 12,
   "metadata": {},
   "outputs": [
    {
     "name": "stdout",
     "output_type": "stream",
     "text": [
      "1    0.5\n",
      "0    0.5\n",
      "Name: polarity, dtype: float64\n",
      "1    0.5\n",
      "0    0.5\n",
      "Name: polarity, dtype: float64\n",
      "1    0.5\n",
      "0    0.5\n",
      "Name: polarity, dtype: float64\n"
     ]
    }
   ],
   "source": [
    "sample_size = 0.5\n",
    "\n",
    "train_df = train_df.groupby(train_df.iloc[:, 1]).apply(lambda x: x.sample(frac=sample_size, random_state=42)).reset_index(drop=True)\n",
    "test_df = test_df.groupby(test_df.iloc[:, 1]).apply(lambda x: x.sample(frac=sample_size, random_state=42)).reset_index(drop=True)\n",
    "val_df = val_df.groupby(val_df.iloc[:, 1]).apply(lambda x: x.sample(frac=sample_size, random_state=42)).reset_index(drop=True)\n",
    "\n",
    "print(train_df.iloc[:, 1].value_counts(normalize=True))\n",
    "print(test_df.iloc[:, 1].value_counts(normalize=True))\n",
    "print(val_df.iloc[:, 1].value_counts(normalize=True))"
   ]
  },
  {
   "cell_type": "code",
   "execution_count": 13,
   "metadata": {},
   "outputs": [],
   "source": [
    "train_df['text'] = train_df['text'].apply(preprocess_tweet)\n",
    "val_df['text'] = val_df['text'].apply(preprocess_tweet)\n",
    "test_df['text'] = test_df['text'].apply(preprocess_tweet)"
   ]
  },
  {
   "cell_type": "code",
   "execution_count": 14,
   "metadata": {},
   "outputs": [],
   "source": [
    "train_texts, train_labels = train_df[\"text\"], train_df[\"polarity\"]\n",
    "test_texts, test_labels = test_df[\"text\"], test_df[\"polarity\"]\n",
    "val_texts, val_labels = val_df[\"text\"], val_df[\"polarity\"]"
   ]
  },
  {
   "cell_type": "code",
   "execution_count": 15,
   "metadata": {},
   "outputs": [],
   "source": [
    "train_texts = train_texts.astype(str)\n",
    "test_texts = test_texts.astype(str)\n",
    "val_texts = val_texts.astype(str)\n",
    "\n",
    "tokenizer = Tokenizer()\n",
    "tokenizer.fit_on_texts(train_texts)"
   ]
  },
  {
   "cell_type": "code",
   "execution_count": 16,
   "metadata": {},
   "outputs": [
    {
     "name": "stdout",
     "output_type": "stream",
     "text": [
      "num_words to cover 95% of the word occurrences: 31378\n"
     ]
    }
   ],
   "source": [
    "total_words = sum(tokenizer.word_counts.values())\n",
    "sorted_counts = sorted(tokenizer.word_counts.items(), key=lambda x: x[1], reverse=True)\n",
    "\n",
    "cumulative_freq = 0\n",
    "threshold = 0.95 * total_words\n",
    "num_words = 0\n",
    "\n",
    "for word, count in sorted_counts:\n",
    "    cumulative_freq += count\n",
    "    num_words += 1\n",
    "    if cumulative_freq >= threshold:\n",
    "        break\n",
    "\n",
    "print(f\"num_words to cover 95% of the word occurrences: {num_words}\")"
   ]
  },
  {
   "cell_type": "markdown",
   "metadata": {},
   "source": [
    "The cell above help us identify number of words in the below cell"
   ]
  },
  {
   "cell_type": "code",
   "execution_count": 17,
   "metadata": {},
   "outputs": [
    {
     "name": "stdout",
     "output_type": "stream",
     "text": [
      "Final vocabulary size: 211064\n"
     ]
    }
   ],
   "source": [
    "tokenizer = Tokenizer(num_words=num_words)\n",
    "tokenizer.fit_on_texts(train_texts)\n",
    "\n",
    "vocab_size = len(tokenizer.word_index) + 1\n",
    "print(f\"Final vocabulary size: {vocab_size}\")"
   ]
  },
  {
   "cell_type": "code",
   "execution_count": 18,
   "metadata": {},
   "outputs": [],
   "source": [
    "train_sequences = tokenizer.texts_to_sequences(train_texts)\n",
    "test_sequences = tokenizer.texts_to_sequences(test_texts)\n",
    "val_sequences = tokenizer.texts_to_sequences(val_texts)"
   ]
  },
  {
   "cell_type": "markdown",
   "metadata": {},
   "source": [
    "Convert Text to sequence of Numeric Format"
   ]
  },
  {
   "cell_type": "code",
   "execution_count": 19,
   "metadata": {},
   "outputs": [
    {
     "name": "stdout",
     "output_type": "stream",
     "text": [
      "Max length: 34\n"
     ]
    }
   ],
   "source": [
    "sequence_lengths = [len(seq) for seq in train_sequences]\n",
    "\n",
    "print(f\"Max length: {np.max(sequence_lengths)}\")"
   ]
  },
  {
   "cell_type": "markdown",
   "metadata": {},
   "source": [
    "The cell above help us identify sequence_lengths in the below cell"
   ]
  },
  {
   "cell_type": "code",
   "execution_count": 20,
   "metadata": {},
   "outputs": [],
   "source": [
    "max_sequence_length = np.max(sequence_lengths)\n",
    "train_padded = pad_sequences(train_sequences, maxlen=max_sequence_length)\n",
    "test_padded = pad_sequences(test_sequences, maxlen=max_sequence_length)\n",
    "val_padded = pad_sequences(val_sequences, maxlen=max_sequence_length)"
   ]
  },
  {
   "cell_type": "markdown",
   "metadata": {},
   "source": [
    "Make all input data of the same shape by padding or truncating"
   ]
  },
  {
   "cell_type": "code",
   "execution_count": 21,
   "metadata": {},
   "outputs": [
    {
     "name": "stdout",
     "output_type": "stream",
     "text": [
      "Model: \"sequential\"\n",
      "_________________________________________________________________\n",
      "Layer (type)                 Output Shape              Param #   \n",
      "=================================================================\n",
      "embedding (Embedding)        (None, 34, 50)            10553200  \n",
      "_________________________________________________________________\n",
      "lstm (LSTM)                  (None, 128)               91648     \n",
      "_________________________________________________________________\n",
      "dense (Dense)                (None, 1)                 129       \n",
      "=================================================================\n",
      "Total params: 10,644,977\n",
      "Trainable params: 10,644,977\n",
      "Non-trainable params: 0\n",
      "_________________________________________________________________\n"
     ]
    }
   ],
   "source": [
    "trainable_model = Sequential([\n",
    "    Embedding(input_dim=vocab_size, output_dim=50, input_length=max_sequence_length, trainable=True),\n",
    "    LSTM(128, dropout=0.4, recurrent_dropout=0),\n",
    "    Dense(1, activation=\"sigmoid\")\n",
    "])\n",
    "\n",
    "trainable_model.compile(optimizer=\"adam\", loss=\"binary_crossentropy\", metrics=[\"accuracy\"])\n",
    "trainable_model.summary()"
   ]
  },
  {
   "cell_type": "code",
   "execution_count": 22,
   "metadata": {},
   "outputs": [],
   "source": [
    "checkpoint_dir = \"model_checkpoints\"\n",
    "os.makedirs(checkpoint_dir, exist_ok=True)\n",
    "\n",
    "early_stop = EarlyStopping(\n",
    "    monitor='val_loss',\n",
    "    patience=2,\n",
    "    restore_best_weights=True\n",
    ")\n",
    "model_checkpoint = ModelCheckpoint(\n",
    "    filepath=os.path.join(checkpoint_dir, 'best_weights.h5'),\n",
    "    monitor='val_loss',\n",
    "    save_best_only=True,\n",
    "    save_weights_only=True,\n",
    "    verbose=1\n",
    ")"
   ]
  },
  {
   "cell_type": "code",
   "execution_count": 23,
   "metadata": {},
   "outputs": [
    {
     "name": "stdout",
     "output_type": "stream",
     "text": [
      "Epoch 1/50\n",
      "10000/10000 [==============================] - 158s 16ms/step - loss: 0.4740 - accuracy: 0.7720 - val_loss: 0.4566 - val_accuracy: 0.7838\n",
      "\n",
      "Epoch 00001: val_loss improved from inf to 0.45655, saving model to model_checkpoints\\best_weights.h5\n",
      "Epoch 2/50\n",
      "10000/10000 [==============================] - 155s 15ms/step - loss: 0.4380 - accuracy: 0.7951 - val_loss: 0.4497 - val_accuracy: 0.7875\n",
      "\n",
      "Epoch 00002: val_loss improved from 0.45655 to 0.44965, saving model to model_checkpoints\\best_weights.h5\n",
      "Epoch 3/50\n",
      "10000/10000 [==============================] - 154s 15ms/step - loss: 0.4215 - accuracy: 0.8044 - val_loss: 0.4464 - val_accuracy: 0.7909\n",
      "\n",
      "Epoch 00003: val_loss improved from 0.44965 to 0.44642, saving model to model_checkpoints\\best_weights.h5\n",
      "Epoch 4/50\n",
      "10000/10000 [==============================] - 154s 15ms/step - loss: 0.4089 - accuracy: 0.8121 - val_loss: 0.4479 - val_accuracy: 0.7914\n",
      "\n",
      "Epoch 00004: val_loss did not improve from 0.44642\n",
      "Epoch 5/50\n",
      "10000/10000 [==============================] - 155s 15ms/step - loss: 0.3976 - accuracy: 0.8179 - val_loss: 0.4523 - val_accuracy: 0.7903\n",
      "\n",
      "Epoch 00005: val_loss did not improve from 0.44642\n"
     ]
    },
    {
     "data": {
      "text/plain": [
       "<keras.callbacks.History at 0x2d8fd081370>"
      ]
     },
     "execution_count": 23,
     "metadata": {},
     "output_type": "execute_result"
    }
   ],
   "source": [
    "trainable_model.fit(train_padded, train_labels, \n",
    "                    epochs=50, batch_size=64, \n",
    "                    validation_data=(val_padded, val_labels),\n",
    "                    callbacks=[early_stop, model_checkpoint])"
   ]
  },
  {
   "cell_type": "code",
   "execution_count": 24,
   "metadata": {},
   "outputs": [],
   "source": [
    "# LSTM Layer Parameters\n",
    "lstm_weights = trainable_model.layers[1].get_weights()\n",
    "W_i, U_i, b_i = lstm_weights[0][:, :128], lstm_weights[1][:, :128], lstm_weights[2][:128]  # Input gate\n",
    "W_f, U_f, b_f = lstm_weights[0][:, 128:256], lstm_weights[1][:, 128:256], lstm_weights[2][128:256]  # Forget gate\n",
    "W_c, U_c, b_c = lstm_weights[0][:, 256:384], lstm_weights[1][:, 256:384], lstm_weights[2][256:384]  # Cell state\n",
    "W_o, U_o, b_o = lstm_weights[0][:, 384:], lstm_weights[1][:, 384:], lstm_weights[2][384:]  # Output gate\n",
    "\n",
    "# Dense Layer Parameters\n",
    "dense_weights, dense_bias = trainable_model.layers[2].get_weights()"
   ]
  },
  {
   "cell_type": "markdown",
   "metadata": {},
   "source": [
    "Extract Model Weights for the forward pass"
   ]
  },
  {
   "cell_type": "code",
   "execution_count": 25,
   "metadata": {},
   "outputs": [],
   "source": [
    "def sigmoid(x):\n",
    "    return 1 / (1 + np.exp(-x))\n",
    "\n",
    "def LSTM_forward(inputs, mask=None):\n",
    "    timesteps, input_dim = inputs.shape\n",
    "    h_t = np.zeros((128,))  # Initialize hidden state\n",
    "    c_t = np.zeros((128,))  # Initialize cell state\n",
    "\n",
    "    for t in range(timesteps):\n",
    "        if mask is not None and mask[t] == 0:\n",
    "            continue  # Skip this timestep if masked\n",
    "\n",
    "        x_t = inputs[t]\n",
    "\n",
    "        # Input gate\n",
    "        i_t = sigmoid(np.dot(x_t, W_i) + np.dot(h_t, U_i) + b_i)\n",
    "        # Forget gate\n",
    "        f_t = sigmoid(np.dot(x_t, W_f) + np.dot(h_t, U_f) + b_f)\n",
    "        # Cell state update\n",
    "        c_hat_t = np.tanh(np.dot(x_t, W_c) + np.dot(h_t, U_c) + b_c)\n",
    "        c_t = f_t * c_t + i_t * c_hat_t\n",
    "        # Output gate\n",
    "        o_t = sigmoid(np.dot(x_t, W_o) + np.dot(h_t, U_o) + b_o)\n",
    "        # Hidden state update\n",
    "        h_t = o_t * np.tanh(c_t)\n",
    "\n",
    "    # Dense layer forward pass\n",
    "    dense_output = sigmoid(np.dot(h_t, dense_weights) + dense_bias)\n",
    "    return dense_output\n",
    "\n",
    "def predict(batch):\n",
    "    # Pass the batch through the embedding layer\n",
    "    embeddings = trainable_model.layers[0](batch).numpy()\n",
    "    mask = (batch != 0).astype(int)  # Create mask (assuming 0 is the padding token)\n",
    "\n",
    "    predictions = []\n",
    "    for i in range(embeddings.shape[0]):  # Process each sequence\n",
    "        pred = LSTM_forward(embeddings[i], mask=mask[i])\n",
    "        predictions.append(pred)\n",
    "\n",
    "    return np.array(predictions)\n"
   ]
  },
  {
   "cell_type": "code",
   "execution_count": 26,
   "metadata": {},
   "outputs": [
    {
     "name": "stdout",
     "output_type": "stream",
     "text": [
      "Model Classes: [0 0 0 ... 1 1 0]\n",
      "Custom Classes: [0 0 0 ... 1 1 0]\n",
      "Accuracy of Custom Predictions: 98.69%\n",
      "Custom Function Time: 216.5089 seconds\n",
      "Model Function Time: 4.2239 seconds\n",
      "Custom Function Memory: 1.7656 MB\n",
      "Model Function Memory: 8.4648 MB\n"
     ]
    }
   ],
   "source": [
    "def get_memory_usage():\n",
    "    process = psutil.Process()\n",
    "    memory_info = process.memory_info()\n",
    "    return memory_info.rss / (1024 * 1024)\n",
    "\n",
    "sample_data = test_padded\n",
    "\n",
    "threshold = 0.5\n",
    "\n",
    "# Model predictions\n",
    "start_time = time.time()\n",
    "start_memory = get_memory_usage()\n",
    "model_preds = trainable_model.predict(sample_data)\n",
    "model_classes = (model_preds >= threshold).astype(int)\n",
    "model_memory = get_memory_usage() - start_memory\n",
    "model_time = time.time() - start_time\n",
    "\n",
    "# Custom predictions\n",
    "start_time = time.time()\n",
    "start_memory = get_memory_usage()\n",
    "custom_preds = predict(sample_data)\n",
    "custom_classes = (custom_preds >= threshold).astype(int)\n",
    "custom_memory = get_memory_usage() - start_memory\n",
    "custom_time = time.time() - start_time\n",
    "\n",
    "print(\"Model Classes:\", model_classes.flatten())\n",
    "print(\"Custom Classes:\", custom_classes.flatten())\n",
    "\n",
    "accuracy = np.mean(model_classes == custom_classes)\n",
    "print(f\"Accuracy of Custom Predictions: {accuracy * 100:.2f}%\")\n",
    "\n",
    "print(f\"Custom Function Time: {custom_time:.4f} seconds\")\n",
    "print(f\"Model Function Time: {model_time:.4f} seconds\")\n",
    "print(f\"Custom Function Memory: {custom_memory:.4f} MB\")\n",
    "print(f\"Model Function Memory: {model_memory:.4f} MB\")"
   ]
  },
  {
   "cell_type": "markdown",
   "metadata": {},
   "source": [
    "The custom implementation achieves high accuracy, nearly identical to the trained model.The minor differences (accuracy less than 100%) may arise due to:\n",
    "\n",
    "Numerical precision differences between NumPy operations and TensorFlow optimizations.\n",
    "\n",
    "The manual sigmoid and tanh functions might have slight deviations compared to their TensorFlow counterparts."
   ]
  },
  {
   "cell_type": "markdown",
   "metadata": {},
   "source": [
    "1) TensorFlow Optimization:\n",
    "\n",
    "TensorFlow is highly optimized for GPU and parallelized computation, enabling rapid forward passes for batches of data. It leverages cuDNN, to process LSTM computations efficiently.\n",
    "\n",
    "2) Custom Function:\n",
    "\n",
    "The custom function processes the input sequentially for each timestep and sequence, leading to significant overhead.\n",
    "It runs on the CPU using NumPy, which is not optimized for deep learning computations.\n",
    "Masking is implemented manually, adding additional computation for each timestep."
   ]
  },
  {
   "cell_type": "markdown",
   "metadata": {},
   "source": [
    "1) TensorFlow's Overheads:\n",
    "\n",
    "TensorFlow allocates additional memory for internal graph representations, tensors, and other intermediate computations to optimize performance and enable gradient computations.\n",
    "\n",
    "2) Custom Function :\n",
    "The custom function only computes the forward pass without the overhead of maintaining computational graphs or intermediate states.\n",
    "It uses NumPy arrays, which have lower memory overhead compared to TensorFlow's tensor objects."
   ]
  },
  {
   "cell_type": "code",
   "execution_count": 27,
   "metadata": {},
   "outputs": [
    {
     "name": "stdout",
     "output_type": "stream",
     "text": [
      "1250/1250 [==============================] - 5s 4ms/step - loss: 0.4447 - accuracy: 0.7909\n",
      "Trainable Embeddings Model Accuracy: 0.7909\n"
     ]
    }
   ],
   "source": [
    "trainable_acc = trainable_model.evaluate(test_padded, test_labels, batch_size=64)\n",
    "print(f\"Trainable Embeddings Model Accuracy: {trainable_acc[1]:.4f}\")"
   ]
  },
  {
   "cell_type": "code",
   "execution_count": 28,
   "metadata": {},
   "outputs": [],
   "source": [
    "y_pred_probs = trainable_model.predict(test_padded, batch_size=64)\n",
    "y_pred = (y_pred_probs > 0.5).astype(\"int32\")"
   ]
  },
  {
   "cell_type": "code",
   "execution_count": 29,
   "metadata": {},
   "outputs": [
    {
     "data": {
      "image/png": "[encoded data removed]",
      "text/plain": [
       "<Figure size 640x480 with 2 Axes>"
      ]
     },
     "metadata": {},
     "output_type": "display_data"
    }
   ],
   "source": [
    "conf_mat = confusion_matrix(test_labels, y_pred)\n",
    "\n",
    "disp = ConfusionMatrixDisplay(confusion_matrix=conf_mat, display_labels=[\"Class 0\", \"Class 1\"])\n",
    "disp.plot(cmap=plt.cm.Blues)\n",
    "plt.title(\"Confusion Matrix - Trainable Embeddings Model\")\n",
    "plt.show()"
   ]
  },
  {
   "cell_type": "code",
   "execution_count": 30,
   "metadata": {},
   "outputs": [
    {
     "name": "stdout",
     "output_type": "stream",
     "text": [
      "Classification Report:\n",
      "\n",
      "              precision    recall  f1-score   support\n",
      "\n",
      "     Class 0       0.79      0.80      0.79     40000\n",
      "     Class 1       0.79      0.78      0.79     40000\n",
      "\n",
      "    accuracy                           0.79     80000\n",
      "   macro avg       0.79      0.79      0.79     80000\n",
      "weighted avg       0.79      0.79      0.79     80000\n",
      "\n"
     ]
    }
   ],
   "source": [
    "report = classification_report(test_labels, y_pred, target_names=[\"Class 0\", \"Class 1\"])\n",
    "print(\"Classification Report:\\n\")\n",
    "print(report)"
   ]
  },
  {
   "cell_type": "code",
   "execution_count": 31,
   "metadata": {},
   "outputs": [],
   "source": [
    "model_path = r\"C:\\Users\\Essam\\Desktop\\DL Assignment2\\Word2vec\\word2vec-google-news-300\\word2vec-google-news-300.gz\"\n",
    "word2vec_model = KeyedVectors.load_word2vec_format(model_path, binary=True)"
   ]
  },
  {
   "cell_type": "code",
   "execution_count": 32,
   "metadata": {},
   "outputs": [
    {
     "name": "stdout",
     "output_type": "stream",
     "text": [
      "Matched tokens: 47929\n",
      "Unmatched tokens (OOV): 163134\n"
     ]
    }
   ],
   "source": [
    "unmatched_count = 0\n",
    "matched_count = 0\n",
    "\n",
    "for word in tokenizer.word_index.keys():\n",
    "    if word in word2vec_model:\n",
    "        matched_count += 1\n",
    "    else:\n",
    "        unmatched_count += 1\n",
    "\n",
    "print(f\"Matched tokens: {matched_count}\")\n",
    "print(f\"Unmatched tokens (OOV): {unmatched_count}\")\n"
   ]
  },
  {
   "cell_type": "markdown",
   "metadata": {},
   "source": [
    "number of words not covered by word2vec embedding"
   ]
  },
  {
   "cell_type": "code",
   "execution_count": 33,
   "metadata": {},
   "outputs": [
    {
     "name": "stdout",
     "output_type": "stream",
     "text": [
      "Model: \"sequential_1\"\n",
      "_________________________________________________________________\n",
      "Layer (type)                 Output Shape              Param #   \n",
      "=================================================================\n",
      "embedding_1 (Embedding)      (None, 34, 300)           63319200  \n",
      "_________________________________________________________________\n",
      "lstm_1 (LSTM)                (None, 128)               219648    \n",
      "_________________________________________________________________\n",
      "dense_1 (Dense)              (None, 1)                 129       \n",
      "=================================================================\n",
      "Total params: 63,538,977\n",
      "Trainable params: 219,777\n",
      "Non-trainable params: 63,319,200\n",
      "_________________________________________________________________\n"
     ]
    }
   ],
   "source": [
    "def build_embedding_matrix(word_index, embedding_dim=300):\n",
    "    embedding_matrix = np.zeros((len(word_index) + 1, embedding_dim))\n",
    "    for word, i in word_index.items():\n",
    "        if word in word2vec_model:\n",
    "            embedding_matrix[i] = word2vec_model[word]\n",
    "    return embedding_matrix\n",
    "\n",
    "embedding_matrix = build_embedding_matrix(tokenizer.word_index)\n",
    "\n",
    "pretrained_model = Sequential([\n",
    "    Embedding(input_dim=len(embedding_matrix),\n",
    "              output_dim=300, input_length=max_sequence_length,\n",
    "              weights=[embedding_matrix], trainable=False),\n",
    "    LSTM(128, dropout=0.2, recurrent_dropout=0),\n",
    "    Dense(1, activation=\"sigmoid\")\n",
    "])\n",
    "\n",
    "pretrained_model.compile(optimizer=\"adam\", loss=\"binary_crossentropy\", metrics=[\"accuracy\"])\n",
    "pretrained_model.summary()"
   ]
  },
  {
   "cell_type": "code",
   "execution_count": 35,
   "metadata": {},
   "outputs": [],
   "source": [
    "checkpoint_dir = \"model_checkpoints\"\n",
    "os.makedirs(checkpoint_dir, exist_ok=True)\n",
    "\n",
    "early_stop_pretrained  = EarlyStopping(\n",
    "    monitor='val_loss',\n",
    "    patience=2,\n",
    "    restore_best_weights=True\n",
    ")\n",
    "model_checkpoint_pretrained  = ModelCheckpoint(\n",
    "    filepath=os.path.join(checkpoint_dir, 'best_weights_pretrained.weights.h5'),\n",
    "    monitor='val_loss',\n",
    "    save_best_only=True,\n",
    "    save_weights_only=True,\n",
    "    verbose=1\n",
    ")"
   ]
  },
  {
   "cell_type": "code",
   "execution_count": 36,
   "metadata": {},
   "outputs": [
    {
     "name": "stdout",
     "output_type": "stream",
     "text": [
      "Epoch 1/50\n",
      "10000/10000 [==============================] - 65s 6ms/step - loss: 0.4933 - accuracy: 0.7585 - val_loss: 0.4660 - val_accuracy: 0.7782\n",
      "\n",
      "Epoch 00001: val_loss improved from inf to 0.46602, saving model to model_checkpoints\\best_weights_pretrained.weights.h5\n",
      "Epoch 2/50\n",
      "10000/10000 [==============================] - 63s 6ms/step - loss: 0.4591 - accuracy: 0.7810 - val_loss: 0.4541 - val_accuracy: 0.7841\n",
      "\n",
      "Epoch 00002: val_loss improved from 0.46602 to 0.45410, saving model to model_checkpoints\\best_weights_pretrained.weights.h5\n",
      "Epoch 3/50\n",
      "10000/10000 [==============================] - 63s 6ms/step - loss: 0.4440 - accuracy: 0.7900 - val_loss: 0.4477 - val_accuracy: 0.7878\n",
      "\n",
      "Epoch 00003: val_loss improved from 0.45410 to 0.44771, saving model to model_checkpoints\\best_weights_pretrained.weights.h5\n",
      "Epoch 4/50\n",
      "10000/10000 [==============================] - 63s 6ms/step - loss: 0.4328 - accuracy: 0.7967 - val_loss: 0.4451 - val_accuracy: 0.7894\n",
      "\n",
      "Epoch 00004: val_loss improved from 0.44771 to 0.44513, saving model to model_checkpoints\\best_weights_pretrained.weights.h5\n",
      "Epoch 5/50\n",
      "10000/10000 [==============================] - 63s 6ms/step - loss: 0.4237 - accuracy: 0.8017 - val_loss: 0.4448 - val_accuracy: 0.7903\n",
      "\n",
      "Epoch 00005: val_loss improved from 0.44513 to 0.44481, saving model to model_checkpoints\\best_weights_pretrained.weights.h5\n",
      "Epoch 6/50\n",
      "10000/10000 [==============================] - 63s 6ms/step - loss: 0.4156 - accuracy: 0.8064 - val_loss: 0.4482 - val_accuracy: 0.7899\n",
      "\n",
      "Epoch 00006: val_loss did not improve from 0.44481\n",
      "Epoch 7/50\n",
      "10000/10000 [==============================] - 64s 6ms/step - loss: 0.4096 - accuracy: 0.8101 - val_loss: 0.4482 - val_accuracy: 0.7891\n",
      "\n",
      "Epoch 00007: val_loss did not improve from 0.44481\n"
     ]
    },
    {
     "data": {
      "text/plain": [
       "<keras.callbacks.History at 0x2db3ffa3820>"
      ]
     },
     "execution_count": 36,
     "metadata": {},
     "output_type": "execute_result"
    }
   ],
   "source": [
    "pretrained_model.fit(train_padded, train_labels,\n",
    "                    epochs=50, batch_size=64,\n",
    "                    validation_data=(val_padded, val_labels),\n",
    "                    callbacks=[early_stop_pretrained, model_checkpoint_pretrained])"
   ]
  },
  {
   "cell_type": "code",
   "execution_count": 43,
   "metadata": {},
   "outputs": [],
   "source": [
    "# Extract LSTM Layer Parameters from the pretrained model\n",
    "lstm_weights = pretrained_model.layers[1].get_weights()\n",
    "W_i, U_i, b_i = lstm_weights[0][:, :128], lstm_weights[1][:, :128], lstm_weights[2][:128]  # Input gate\n",
    "W_f, U_f, b_f = lstm_weights[0][:, 128:256], lstm_weights[1][:, 128:256], lstm_weights[2][128:256]  # Forget gate\n",
    "W_c, U_c, b_c = lstm_weights[0][:, 256:384], lstm_weights[1][:, 256:384], lstm_weights[2][256:384]  # Cell state\n",
    "W_o, U_o, b_o = lstm_weights[0][:, 384:], lstm_weights[1][:, 384:], lstm_weights[2][384:]  # Output gate\n",
    "\n",
    "# Extract Dense Layer Parameters from the pretrained model\n",
    "dense_weights, dense_bias = pretrained_model.layers[2].get_weights()"
   ]
  },
  {
   "cell_type": "code",
   "execution_count": 44,
   "metadata": {},
   "outputs": [],
   "source": [
    "def sigmoid(x):\n",
    "    return 1 / (1 + np.exp(-x))\n",
    "\n",
    "def LSTM_forward(inputs, mask=None):\n",
    "    timesteps, input_dim = inputs.shape\n",
    "    h_t = np.zeros((128,))  # Initialize hidden state\n",
    "    c_t = np.zeros((128,))  # Initialize cell state\n",
    "\n",
    "    for t in range(timesteps):\n",
    "        if mask is not None and mask[t] == 0:\n",
    "            continue  # Skip this timestep if masked\n",
    "\n",
    "        x_t = inputs[t]\n",
    "\n",
    "        # Input gate\n",
    "        i_t = sigmoid(np.dot(x_t, W_i) + np.dot(h_t, U_i) + b_i)\n",
    "        # Forget gate\n",
    "        f_t = sigmoid(np.dot(x_t, W_f) + np.dot(h_t, U_f) + b_f)\n",
    "        # Cell state update\n",
    "        c_hat_t = np.tanh(np.dot(x_t, W_c) + np.dot(h_t, U_c) + b_c)\n",
    "        c_t = f_t * c_t + i_t * c_hat_t\n",
    "        # Output gate\n",
    "        o_t = sigmoid(np.dot(x_t, W_o) + np.dot(h_t, U_o) + b_o)\n",
    "        # Hidden state update\n",
    "        h_t = o_t * np.tanh(c_t)\n",
    "\n",
    "    # Dense layer forward pass\n",
    "    dense_output = sigmoid(np.dot(h_t, dense_weights) + dense_bias)\n",
    "    return dense_output\n",
    "def predict(batch):\n",
    "    # Pass the batch through the embedding layer of the pretrained model\n",
    "    embeddings = pretrained_model.layers[0](batch).numpy()\n",
    "    mask = (batch != 0).astype(int)  # Create mask (assuming 0 is the padding token)\n",
    "\n",
    "    predictions = []\n",
    "    for i in range(embeddings.shape[0]):  # Process each sequence\n",
    "        pred = LSTM_forward(embeddings[i], mask=mask[i])\n",
    "        predictions.append(pred)\n",
    "\n",
    "    return np.array(predictions)\n"
   ]
  },
  {
   "cell_type": "code",
   "execution_count": 46,
   "metadata": {},
   "outputs": [
    {
     "name": "stdout",
     "output_type": "stream",
     "text": [
      "Model Classes: [1 0 0 0 1 0 0 0 1 0 1 0 0 0 0 0 0 0 0 1 0 1 0 0 0 0 0 0 0 0 0 0 0 0 1 0 0\n",
      " 0 1 0 1 0 0 0 0 1 0 0 0 0 1 0 1 0 0 1 1 0 0 0 0 1 0 0 0 0 0 0 0 0 1 0 1 0\n",
      " 1 0 0 0 1 0 0 0 1 0 1 0 0 0 1 0 0 1 0 0 1 0 1 0 1 0 0 0 0 0 0 0 1 1 0 0 0\n",
      " 0 1 0 1 1 0 0 0 0 0 0 1 0 1 0 1 0 1 0 0 0 0 1 0 0 1 1 1 0 0 0 0 0 0 0 0 0\n",
      " 0 0 0 0 1 1 0 0 0 0 1 0 0 0 1 0 0 0 0 0 0 0 0 0 0 0 1 0 0 0 0 0 0 1 1 0 0\n",
      " 0 0 0 0 0 0 1 1 0 0 0 0 1 0 0 0 0 0 0 0 0 0 1 0 0 0 1 0 0 0 0 0 0 0 1 0 0\n",
      " 0 0 0 1 1 0 0 0 0 0 1 1 0 1 0 1 1 0 0 0 1 0 0 0 0 1 1 0 0 1 1 0 1 0 0 0 0\n",
      " 0 1 0 0 0 1 0 0 1 0 1 1 0 0 0 0 0 0 0 0 0 0 1 0 0 0 0 0 0 0 0 0 0 0 0 0 0\n",
      " 0 0 0 0 0 1 0 0 0 0 0 0 0 0 0 0 1 1 0 0 0 0 0 0 1 0 0 1 0 1 0 1 0 1 0 0 1\n",
      " 0 0 0 0 0 1 0 0 1 0 0 0 0 0 0 0 0 1 0 0 1 0 0 0 0 0 1 0 0 0 0 1 0 0 0 0 1\n",
      " 0 1 0 1 0 0 0 0 0 0 0 0 0 0 1 0 0 0 0 1 1 1 0 0 1 1 0 0 1 0 0 0 1 1 1 0 0\n",
      " 0 0 0 0 0 1 0 0 0 0 0 0 1 0 0 0 0 0 0 1 0 0 1 1 0 0 0 0 0 0 0 1 0 1 1 0 0\n",
      " 0 0 1 1 0 0 0 0 1 1 0 0 0 0 1 0 0 0 1 0 0 0 0 0 0 1 0 0 0 0 0 0 0 0 0 0 0\n",
      " 0 1 0 0 0 0 0 1 0 0 0 1 0 1 0 0 0 1 0 0 0 0 0 0 0 0 0 0 0 1 0 1 0 0 0 0 0\n",
      " 0 0 0 1 1 0 0 0 0 0 0 1 1 0 0 0 0 0 1 0 0 1 0 0 0 0 0 1 1 0 0 0 0 0 0 0 1\n",
      " 0 0 0 0 1 0 0 0 0 0 0 0 1 1 0 1 0 0 0 0 0 1 0 0 1 0 1 0 0 0 1 0 0 0 0 0 0\n",
      " 0 0 0 1 0 0 1 1 0 0 0 1 0 1 0 0 1 0 0 0 0 0 1 0 0 0 0 0 0 0 1 0 1 0 1 0 0\n",
      " 0 1 0 1 0 0 0 0 0 0 0 0 0 0 1 0 1 1 0 1 0 0 0 0 0 0 0 0 0 0 0 0 0 0 0 0 1\n",
      " 0 1 0 1 0 0 0 0 0 0 0 1 0 0 1 1 0 1 0 0 1 0 0 0 1 1 0 0 0 0 0 0 0 0 0 0 0\n",
      " 0 1 0 0 0 0 0 1 0 0 0 0 1 0 0 0 0 1 0 1 0 0 0 1 0 0 0 0 0 0 0 0 0 0 0 0 0\n",
      " 0 0 0 1 0 1 0 1 1 0 0 0 0 1 1 0 0 0 0 0 1 1 0 0 1 0 0 0 0 0 1 0 0 0 0 0 1\n",
      " 0 1 0 0 1 0 0 1 0 0 0 1 0 0 0 0 0 0 1 0 0 0 0 0 1 0 0 0 0 1 0 1 0 0 0 0 0\n",
      " 0 0 0 1 0 0 0 1 0 0 0 0 0 0 1 0 0 0 0 0 0 0 0 0 0 1 0 1 0 1 0 0 1 0 0 0 1\n",
      " 0 0 1 0 1 1 0 1 0 0 0 0 0 0 1 1 0 1 0 0 0 0 0 0 0 0 0 0 0 0 0 0 0 0 0 1 0\n",
      " 1 0 0 1 0 0 1 0 0 0 0 0 1 0 1 1 0 0 0 0 1 1 1 0 1 0 0 0 0 0 0 0 0 1 0 0 0\n",
      " 0 0 0 0 0 0 0 0 0 0 0 0 1 0 1 1 1 0 0 0 0 0 0 0 1 0 0 0 0 0 0 0 0 0 0 0 1\n",
      " 0 0 0 0 1 0 1 0 1 1 1 1 0 0 1 0 0 0 0 0 0 0 0 0 0 0 0 0 0 0 0 1 0 0 1 0 0\n",
      " 0]\n",
      "Custom Classes: [1 0 0 0 1 0 0 0 1 0 1 0 0 0 0 0 0 0 0 0 0 1 0 0 0 0 0 0 0 0 0 0 0 0 1 0 0\n",
      " 0 1 0 1 0 0 0 0 1 0 0 0 0 1 0 1 0 0 1 1 0 0 0 0 1 0 0 0 0 0 0 0 0 1 0 1 0\n",
      " 1 0 0 0 1 0 0 0 1 0 1 0 0 0 1 0 0 1 0 0 1 0 1 0 1 0 0 0 0 0 0 0 1 1 0 0 0\n",
      " 0 1 0 1 1 0 0 0 0 0 0 1 0 1 0 1 0 1 0 0 0 0 1 0 0 1 1 1 0 0 0 0 0 0 0 0 0\n",
      " 0 0 0 0 1 1 0 0 0 1 1 0 0 0 1 0 0 0 0 0 0 0 0 0 0 0 1 0 0 0 0 0 0 1 1 0 0\n",
      " 0 0 0 0 0 0 1 1 0 0 0 0 1 0 0 0 0 0 0 0 0 0 1 0 0 0 1 0 0 0 0 0 0 0 1 0 0\n",
      " 1 0 0 1 1 0 0 0 0 0 1 1 0 1 0 1 1 0 0 0 1 0 0 0 0 1 0 0 0 1 1 0 1 0 0 0 0\n",
      " 0 1 0 0 0 1 0 0 1 0 1 1 0 0 0 0 0 0 0 0 0 0 1 0 0 0 0 0 0 0 0 0 0 0 0 0 0\n",
      " 0 0 0 0 0 1 0 0 0 0 0 0 0 0 0 0 1 1 0 0 0 0 0 0 1 0 0 1 0 1 0 1 0 1 0 0 1\n",
      " 0 0 0 0 0 1 0 0 1 0 0 0 0 0 0 0 0 1 0 0 1 0 0 0 0 0 1 0 0 0 0 1 0 0 0 0 1\n",
      " 0 1 0 1 0 0 0 0 0 0 0 0 0 0 1 0 0 0 0 1 1 1 0 0 1 1 0 0 1 0 0 0 1 1 1 0 0\n",
      " 0 0 0 0 0 1 0 0 0 0 0 0 1 0 0 0 0 0 0 1 0 0 1 1 0 0 0 0 0 0 0 1 0 1 1 0 0\n",
      " 0 0 1 1 0 0 0 0 1 1 0 0 0 0 1 0 0 0 1 0 0 0 0 0 0 1 0 0 0 0 0 0 0 0 0 0 0\n",
      " 0 1 0 0 0 0 0 1 0 0 0 1 0 1 0 0 0 1 0 0 0 0 0 0 0 0 0 0 0 1 0 1 0 0 0 0 0\n",
      " 0 0 0 1 1 0 0 0 0 0 0 1 1 0 0 0 0 0 1 0 1 1 0 0 0 0 0 1 1 0 0 0 0 0 0 0 1\n",
      " 0 0 0 0 1 0 0 0 0 0 0 0 1 1 0 1 0 0 0 0 0 1 0 0 1 0 1 0 0 0 1 0 0 0 0 0 0\n",
      " 0 0 0 1 0 0 0 1 0 0 0 1 0 1 0 0 1 0 0 0 0 0 1 0 0 0 0 0 0 0 1 0 1 0 1 0 0\n",
      " 0 1 0 1 0 1 0 0 0 0 0 0 0 0 1 0 1 1 0 1 0 0 0 0 0 0 0 0 0 0 0 0 0 0 0 0 1\n",
      " 0 1 0 1 0 0 0 0 0 0 0 1 0 0 1 1 0 1 0 0 1 0 0 0 1 1 0 0 0 0 0 0 0 0 0 0 0\n",
      " 0 1 0 0 0 0 0 1 0 0 0 0 1 0 0 0 0 1 0 1 0 0 0 1 0 0 0 0 0 0 0 0 0 0 0 0 0\n",
      " 0 0 0 1 0 1 0 1 1 0 0 0 0 1 1 0 0 0 0 0 1 1 0 0 1 0 0 0 0 0 1 0 0 0 0 0 1\n",
      " 0 1 0 0 1 0 0 1 0 0 0 1 0 0 0 0 0 0 1 0 0 0 0 0 1 0 0 0 0 1 0 1 0 0 0 0 0\n",
      " 0 0 0 1 0 0 0 1 0 0 0 0 0 0 1 0 0 0 0 0 0 0 0 0 0 1 0 1 0 1 0 0 1 0 0 0 1\n",
      " 0 0 1 0 1 1 0 1 0 0 0 0 0 0 1 1 0 1 0 0 0 0 0 0 0 0 0 0 0 0 0 0 0 0 0 1 0\n",
      " 1 0 0 1 0 0 1 0 0 0 0 0 1 0 1 1 0 0 0 0 1 1 1 0 1 0 0 0 0 0 0 0 0 1 0 0 0\n",
      " 0 0 0 0 0 0 0 0 0 0 0 0 1 0 1 1 1 0 0 0 0 0 0 0 1 0 0 0 0 0 0 0 0 0 0 0 1\n",
      " 0 0 0 0 1 0 1 0 1 1 1 1 0 0 1 0 0 0 0 0 0 0 0 0 0 0 0 0 0 0 0 1 0 0 1 0 0\n",
      " 0]\n",
      "Accuracy of Custom Predictions: 99.30%\n",
      "Custom Function Time: 5.4047 seconds\n",
      "Model Function Time: 0.4940 seconds\n",
      "Custom Function Memory: 0.1016 MB\n",
      "Model Function Memory: 1.7891 MB\n"
     ]
    }
   ],
   "source": [
    "def get_memory_usage():\n",
    "    process = psutil.Process()\n",
    "    memory_info = process.memory_info()\n",
    "    return memory_info.rss / (1024 * 1024)\n",
    "\n",
    "threshold = 0.5\n",
    "\n",
    "sample_data = test_padded[:1000]\n",
    "\n",
    "# Model predictions\n",
    "start_time = time.time()\n",
    "start_memory = get_memory_usage()\n",
    "model_preds = pretrained_model.predict(sample_data)\n",
    "model_classes = (model_preds >= threshold).astype(int)\n",
    "model_memory = get_memory_usage() - start_memory\n",
    "model_time = time.time() - start_time\n",
    "\n",
    "# Custom predictions\n",
    "start_time = time.time()\n",
    "start_memory = get_memory_usage()\n",
    "custom_preds = predict(sample_data)\n",
    "custom_classes = (custom_preds >= threshold).astype(int)\n",
    "custom_memory = get_memory_usage() - start_memory\n",
    "custom_time = time.time() - start_time\n",
    "\n",
    "print(\"Model Classes:\", model_classes.flatten())\n",
    "print(\"Custom Classes:\", custom_classes.flatten())\n",
    "\n",
    "accuracy = np.mean(model_classes == custom_classes)\n",
    "print(f\"Accuracy of Custom Predictions: {accuracy * 100:.2f}%\")\n",
    "\n",
    "print(f\"Custom Function Time: {custom_time:.4f} seconds\")\n",
    "print(f\"Model Function Time: {model_time:.4f} seconds\")\n",
    "print(f\"Custom Function Memory: {custom_memory:.4f} MB\")\n",
    "print(f\"Model Function Memory: {model_memory:.4f} MB\")\n"
   ]
  },
  {
   "cell_type": "code",
   "execution_count": 47,
   "metadata": {},
   "outputs": [
    {
     "name": "stdout",
     "output_type": "stream",
     "text": [
      "2500/2500 [==============================] - 10s 4ms/step - loss: 0.4422 - accuracy: 0.7927\n",
      "Test Accuracy: 0.7927250266075134\n"
     ]
    }
   ],
   "source": [
    "test_loss, test_acc = pretrained_model.evaluate(test_padded, test_labels)\n",
    "print(f\"Test Accuracy: {test_acc}\")"
   ]
  },
  {
   "cell_type": "code",
   "execution_count": 48,
   "metadata": {},
   "outputs": [],
   "source": [
    "test_preds = pretrained_model.predict(test_padded)\n",
    "test_preds = (test_preds > 0.5).astype(int)"
   ]
  },
  {
   "cell_type": "code",
   "execution_count": 49,
   "metadata": {},
   "outputs": [
    {
     "data": {
      "image/png": "[encoded data removed]",
      "text/plain": [
       "<Figure size 640x480 with 2 Axes>"
      ]
     },
     "metadata": {},
     "output_type": "display_data"
    }
   ],
   "source": [
    "conf_mat = confusion_matrix(test_labels, test_preds)\n",
    "\n",
    "disp = ConfusionMatrixDisplay(confusion_matrix=conf_mat, display_labels=[\"Class 0\", \"Class 1\"])\n",
    "disp.plot(cmap=plt.cm.Blues)\n",
    "plt.title(\"Confusion Matrix - Trainable Embeddings Model\")\n",
    "plt.show()"
   ]
  },
  {
   "cell_type": "code",
   "execution_count": 50,
   "metadata": {},
   "outputs": [
    {
     "name": "stdout",
     "output_type": "stream",
     "text": [
      "              precision    recall  f1-score   support\n",
      "\n",
      "    Negative       0.80      0.78      0.79     40000\n",
      "    Positive       0.78      0.81      0.80     40000\n",
      "\n",
      "    accuracy                           0.79     80000\n",
      "   macro avg       0.79      0.79      0.79     80000\n",
      "weighted avg       0.79      0.79      0.79     80000\n",
      "\n"
     ]
    }
   ],
   "source": [
    "report = classification_report(test_labels, test_preds, target_names=[\"Negative\", \"Positive\"])\n",
    "print(report)"
   ]
  },
  {
   "cell_type": "markdown",
   "metadata": {},
   "source": [
    "### Both Models Trained and Pre-trained achieving simillar accuracies but the pretrained model is much faster as it is using pretrained embeddings "
   ]
  }
 ],
 "metadata": {
  "kernelspec": {
   "display_name": "tf26-gpu",
   "language": "python",
   "name": "python3"
  },
  "language_info": {
   "codemirror_mode": {
    "name": "ipython",
    "version": 3
   },
   "file_extension": ".py",
   "mimetype": "text/x-python",
   "name": "python",
   "nbconvert_exporter": "python",
   "pygments_lexer": "ipython3",
   "version": "3.8.20"
  }
 },
 "nbformat": 4,
 "nbformat_minor": 2
}
